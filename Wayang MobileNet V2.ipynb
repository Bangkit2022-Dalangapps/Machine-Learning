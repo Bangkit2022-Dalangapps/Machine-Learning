{
  "cells": [
    {
      "cell_type": "code",
      "execution_count": 1,
      "metadata": {
        "id": "9LN8uXAYzKoh",
        "colab": {
          "base_uri": "https://localhost:8080/"
        },
        "outputId": "0f466be0-f263-4138-bdad-e91cad817032"
      },
      "outputs": [
        {
          "output_type": "stream",
          "name": "stdout",
          "text": [
            "Mounted at /content/drive\n"
          ]
        }
      ],
      "source": [
        "from google.colab import drive\n",
        "drive.mount('/content/drive')"
      ]
    },
    {
      "cell_type": "markdown",
      "source": [
        "**Importing Libraries**"
      ],
      "metadata": {
        "id": "2Is0s0K_qRs9"
      }
    },
    {
      "cell_type": "code",
      "execution_count": 2,
      "metadata": {
        "id": "VhRsvSHwZfcV",
        "colab": {
          "base_uri": "https://localhost:8080/"
        },
        "outputId": "f9b13e1f-22fa-4075-f1a5-4a23d818fc26"
      },
      "outputs": [
        {
          "output_type": "stream",
          "name": "stdout",
          "text": [
            "Looking in indexes: https://pypi.org/simple, https://us-python.pkg.dev/colab-wheels/public/simple/\n",
            "\u001b[31mERROR: Could not find a version that satisfies the requirement tensorflow-gpu==2.0.0-beta0 (from versions: 1.13.1, 1.13.2, 1.14.0, 1.15.0, 1.15.2, 1.15.3, 1.15.4, 1.15.5, 2.0.0, 2.0.1, 2.0.2, 2.0.3, 2.0.4, 2.1.0, 2.1.1, 2.1.2, 2.1.3, 2.1.4, 2.2.0, 2.2.1, 2.2.2, 2.2.3, 2.3.0, 2.3.1, 2.3.2, 2.3.3, 2.3.4, 2.4.0, 2.4.1, 2.4.2, 2.4.3, 2.4.4, 2.5.0, 2.5.1, 2.5.2, 2.5.3, 2.6.0, 2.6.1, 2.6.2, 2.6.3, 2.6.4, 2.6.5, 2.7.0rc0, 2.7.0rc1, 2.7.0, 2.7.1, 2.7.2, 2.7.3, 2.8.0rc0, 2.8.0rc1, 2.8.0, 2.8.1, 2.8.2, 2.9.0rc0, 2.9.0rc1, 2.9.0rc2, 2.9.0, 2.9.1)\u001b[0m\n",
            "\u001b[31mERROR: No matching distribution found for tensorflow-gpu==2.0.0-beta0\u001b[0m\n",
            "Looking in indexes: https://pypi.org/simple, https://us-python.pkg.dev/colab-wheels/public/simple/\n",
            "Requirement already satisfied: tensorflow_hub in /usr/local/lib/python3.7/dist-packages (0.12.0)\n",
            "Requirement already satisfied: numpy>=1.12.0 in /usr/local/lib/python3.7/dist-packages (from tensorflow_hub) (1.21.6)\n",
            "Requirement already satisfied: protobuf>=3.8.0 in /usr/local/lib/python3.7/dist-packages (from tensorflow_hub) (3.17.3)\n",
            "Requirement already satisfied: six>=1.9 in /usr/local/lib/python3.7/dist-packages (from protobuf>=3.8.0->tensorflow_hub) (1.15.0)\n"
          ]
        }
      ],
      "source": [
        "!pip install tensorflow-gpu==2.0.0-beta0\n",
        "!pip install tensorflow_hub"
      ]
    },
    {
      "cell_type": "code",
      "source": [
        "from __future__ import absolute_import, division, print_function, unicode_literals\n",
        "import matplotlib.pylab as plt\n",
        "import tensorflow as tf\n",
        "import tensorflow_hub as hub\n",
        "import numpy as np"
      ],
      "metadata": {
        "id": "foayFbpn7JOh"
      },
      "execution_count": 3,
      "outputs": []
    },
    {
      "cell_type": "code",
      "source": [
        "import pandas as pd\n",
        "\n",
        "# Increase precision of presented data for better side-by-side comparison\n",
        "pd.set_option(\"display.precision\", 8)"
      ],
      "metadata": {
        "id": "ssai4YhG7Lhr"
      },
      "execution_count": null,
      "outputs": []
    },
    {
      "cell_type": "code",
      "source": [
        "print(\"Version: \", tf.__version__)\n",
        "print(\"Hub version: \", hub.__version__)\n",
        "print(\"Eager mode: \", tf.executing_eagerly())\n",
        "print(\"GPU is\", \"available\" if tf.test.is_gpu_available() else \"NOT AVAILABLE\")"
      ],
      "metadata": {
        "colab": {
          "base_uri": "https://localhost:8080/"
        },
        "id": "PNHUvUk47N8N",
        "outputId": "71e4ee12-692f-4ce8-9699-9156dd9fc8eb"
      },
      "execution_count": 4,
      "outputs": [
        {
          "output_type": "stream",
          "name": "stdout",
          "text": [
            "Version:  2.8.2\n",
            "Hub version:  0.12.0\n",
            "Eager mode:  True\n",
            "WARNING:tensorflow:From <ipython-input-4-8f92b4db31ed>:4: is_gpu_available (from tensorflow.python.framework.test_util) is deprecated and will be removed in a future version.\n",
            "Instructions for updating:\n",
            "Use `tf.config.list_physical_devices('GPU')` instead.\n",
            "GPU is NOT AVAILABLE\n"
          ]
        }
      ]
    },
    {
      "cell_type": "markdown",
      "source": [
        "**Dataset Preparation**"
      ],
      "metadata": {
        "id": "ELwDmmIvqfjk"
      }
    },
    {
      "cell_type": "code",
      "source": [
        "data_root='/content/drive/MyDrive/Wayangs/'"
      ],
      "metadata": {
        "id": "gHi5OHpU7QCl"
      },
      "execution_count": 5,
      "outputs": []
    },
    {
      "cell_type": "code",
      "source": [
        "train_path = '/content/drive/MyDrive/Wayangs/train'\n",
        "test_path = '/content/drive/MyDrive/Wayangs/val'\n",
        "IMAGE_SHAPE = (224, 224)\n",
        "\n",
        "valid_datagen = tf.keras.preprocessing.image.ImageDataGenerator(\n",
        ")\n",
        "\n",
        "valid_generator = valid_datagen.flow_from_directory(\n",
        "    directory=test_path, \n",
        "    shuffle=True,\n",
        "    target_size=IMAGE_SHAPE\n",
        ")\n",
        "\n",
        "train_datagen = tf.keras.preprocessing.image.ImageDataGenerator(\n",
        "    shear_range=0.2,\n",
        "    rotation_range=30,\n",
        "    fill_mode='reflect',\n",
        "    zoom_range=0.2,\n",
        "    brightness_range=[0.8, 1.2],\n",
        "    width_shift_range=0.2,\n",
        "    height_shift_range=0.2,\n",
        "    horizontal_flip=True,\n",
        "    vertical_flip=True\n",
        ")\n",
        "train_generator = train_datagen.flow_from_directory(\n",
        "    directory=train_path,  \n",
        "    shuffle=True,\n",
        "    target_size=IMAGE_SHAPE)"
      ],
      "metadata": {
        "colab": {
          "base_uri": "https://localhost:8080/"
        },
        "id": "d8tKLTIg7Unt",
        "outputId": "4fe62113-7e6d-4102-b285-fa67c1844e2b"
      },
      "execution_count": 6,
      "outputs": [
        {
          "output_type": "stream",
          "name": "stdout",
          "text": [
            "Found 67 images belonging to 5 classes.\n",
            "Found 446 images belonging to 5 classes.\n"
          ]
        }
      ]
    },
    {
      "cell_type": "code",
      "source": [
        "image_batch_train, label_batch_train = next(iter(train_generator))\n",
        "print(\"Image batch shape: \", image_batch_train.shape)\n",
        "print(\"Label batch shape: \", label_batch_train.shape)\n",
        "dataset_labels = sorted(train_generator.class_indices.items(), key=lambda pair:pair[1])\n",
        "dataset_labels = np.array([key.title() for key, value in dataset_labels])\n",
        "print(dataset_labels)"
      ],
      "metadata": {
        "colab": {
          "base_uri": "https://localhost:8080/"
        },
        "id": "Go8o4Op58VYf",
        "outputId": "003a1a91-3eaa-4eca-c895-06b6307dc1dc"
      },
      "execution_count": 7,
      "outputs": [
        {
          "output_type": "stream",
          "name": "stdout",
          "text": [
            "Image batch shape:  (32, 224, 224, 3)\n",
            "Label batch shape:  (32, 5)\n",
            "['Wayang Beber' 'Wayang Gedog' 'Wayang Golek' 'Wayang Kulit'\n",
            " 'Wayang Suluh']\n"
          ]
        }
      ]
    },
    {
      "cell_type": "markdown",
      "source": [
        "**Model Training**"
      ],
      "metadata": {
        "id": "sWpY1ygHrL1R"
      }
    },
    {
      "cell_type": "code",
      "source": [
        "model = tf.keras.Sequential([\n",
        "  hub.KerasLayer(\"https://tfhub.dev/google/tf2-preview/mobilenet_v2/feature_vector/4\", \n",
        "                 output_shape=[1280],\n",
        "                 trainable=False),\n",
        "  tf.keras.layers.Flatten(),\n",
        "  tf.keras.layers.Dense(1024, activation='relu'),\n",
        "  tf.keras.layers.Dropout(0.4),\n",
        "  tf.keras.layers.Dense(train_generator.num_classes, activation='softmax')\n",
        "])\n",
        "model.build([None, 224, 224, 3])\n",
        "\n",
        "model.summary()"
      ],
      "metadata": {
        "colab": {
          "base_uri": "https://localhost:8080/"
        },
        "id": "L2EuIrim8rE_",
        "outputId": "dd713065-924c-4b88-beec-e381449ef3fe"
      },
      "execution_count": 8,
      "outputs": [
        {
          "output_type": "stream",
          "name": "stdout",
          "text": [
            "Model: \"sequential\"\n",
            "_________________________________________________________________\n",
            " Layer (type)                Output Shape              Param #   \n",
            "=================================================================\n",
            " keras_layer (KerasLayer)    (None, 1280)              2257984   \n",
            "                                                                 \n",
            " flatten (Flatten)           (None, 1280)              0         \n",
            "                                                                 \n",
            " dense (Dense)               (None, 1024)              1311744   \n",
            "                                                                 \n",
            " dropout (Dropout)           (None, 1024)              0         \n",
            "                                                                 \n",
            " dense_1 (Dense)             (None, 5)                 5125      \n",
            "                                                                 \n",
            "=================================================================\n",
            "Total params: 3,574,853\n",
            "Trainable params: 1,316,869\n",
            "Non-trainable params: 2,257,984\n",
            "_________________________________________________________________\n"
          ]
        }
      ]
    },
    {
      "cell_type": "code",
      "source": [
        "model.compile(\n",
        "  optimizer=tf.keras.optimizers.Adam(),\n",
        "  loss='categorical_crossentropy',\n",
        "  metrics=['acc'])"
      ],
      "metadata": {
        "id": "dVuySzJQ8ztO"
      },
      "execution_count": 9,
      "outputs": []
    },
    {
      "cell_type": "code",
      "source": [
        "steps_per_epoch = np.ceil(train_generator.samples/train_generator.batch_size)\n",
        "val_steps_per_epoch = np.ceil(valid_generator.samples/valid_generator.batch_size)\n",
        "\n",
        "hist = model.fit(\n",
        "    train_generator, \n",
        "    epochs=35,\n",
        "    verbose=1,\n",
        "    steps_per_epoch=steps_per_epoch,\n",
        "    validation_data=valid_generator,\n",
        "    validation_steps=val_steps_per_epoch).history"
      ],
      "metadata": {
        "colab": {
          "base_uri": "https://localhost:8080/"
        },
        "id": "WfQkrf1U82fZ",
        "outputId": "53d32646-821f-4fd8-9661-b34f7ed4335f"
      },
      "execution_count": 10,
      "outputs": [
        {
          "output_type": "stream",
          "name": "stdout",
          "text": [
            "Epoch 1/35\n",
            "14/14 [==============================] - 81s 6s/step - loss: 1.5660 - acc: 0.6839 - val_loss: 1.1705 - val_acc: 0.6119\n",
            "Epoch 2/35\n",
            "14/14 [==============================] - 25s 2s/step - loss: 0.6056 - acc: 0.7870 - val_loss: 1.0007 - val_acc: 0.6418\n",
            "Epoch 3/35\n",
            "14/14 [==============================] - 25s 2s/step - loss: 0.4903 - acc: 0.8274 - val_loss: 0.6878 - val_acc: 0.7164\n",
            "Epoch 4/35\n",
            "14/14 [==============================] - 25s 2s/step - loss: 0.4065 - acc: 0.8498 - val_loss: 0.6765 - val_acc: 0.7612\n",
            "Epoch 5/35\n",
            "14/14 [==============================] - 27s 2s/step - loss: 0.3698 - acc: 0.8632 - val_loss: 0.8043 - val_acc: 0.7164\n",
            "Epoch 6/35\n",
            "14/14 [==============================] - 25s 2s/step - loss: 0.3321 - acc: 0.8812 - val_loss: 0.8929 - val_acc: 0.7313\n",
            "Epoch 7/35\n",
            "14/14 [==============================] - 25s 2s/step - loss: 0.3432 - acc: 0.8834 - val_loss: 0.8378 - val_acc: 0.7313\n",
            "Epoch 8/35\n",
            "14/14 [==============================] - 25s 2s/step - loss: 0.3542 - acc: 0.8632 - val_loss: 0.6265 - val_acc: 0.7313\n",
            "Epoch 9/35\n",
            "14/14 [==============================] - 25s 2s/step - loss: 0.2908 - acc: 0.8901 - val_loss: 0.6202 - val_acc: 0.7164\n",
            "Epoch 10/35\n",
            "14/14 [==============================] - 25s 2s/step - loss: 0.3376 - acc: 0.8857 - val_loss: 0.5721 - val_acc: 0.7761\n",
            "Epoch 11/35\n",
            "14/14 [==============================] - 25s 2s/step - loss: 0.2888 - acc: 0.9081 - val_loss: 0.6283 - val_acc: 0.7463\n",
            "Epoch 12/35\n",
            "14/14 [==============================] - 24s 2s/step - loss: 0.2795 - acc: 0.8946 - val_loss: 0.7713 - val_acc: 0.7313\n",
            "Epoch 13/35\n",
            "14/14 [==============================] - 26s 2s/step - loss: 0.2371 - acc: 0.9148 - val_loss: 0.5185 - val_acc: 0.7910\n",
            "Epoch 14/35\n",
            "14/14 [==============================] - 25s 2s/step - loss: 0.2662 - acc: 0.8946 - val_loss: 0.6930 - val_acc: 0.7463\n",
            "Epoch 15/35\n",
            "14/14 [==============================] - 25s 2s/step - loss: 0.2787 - acc: 0.9036 - val_loss: 0.9977 - val_acc: 0.7164\n",
            "Epoch 16/35\n",
            "14/14 [==============================] - 24s 2s/step - loss: 0.2728 - acc: 0.8946 - val_loss: 0.6611 - val_acc: 0.7463\n",
            "Epoch 17/35\n",
            "14/14 [==============================] - 25s 2s/step - loss: 0.2231 - acc: 0.9215 - val_loss: 0.8148 - val_acc: 0.7164\n",
            "Epoch 18/35\n",
            "14/14 [==============================] - 25s 2s/step - loss: 0.2758 - acc: 0.9013 - val_loss: 0.8308 - val_acc: 0.7463\n",
            "Epoch 19/35\n",
            "14/14 [==============================] - 25s 2s/step - loss: 0.2062 - acc: 0.9350 - val_loss: 0.3989 - val_acc: 0.7910\n",
            "Epoch 20/35\n",
            "14/14 [==============================] - 24s 2s/step - loss: 0.2271 - acc: 0.9215 - val_loss: 0.4336 - val_acc: 0.7910\n",
            "Epoch 21/35\n",
            "14/14 [==============================] - 24s 2s/step - loss: 0.2017 - acc: 0.9260 - val_loss: 0.4714 - val_acc: 0.8060\n",
            "Epoch 22/35\n",
            "14/14 [==============================] - 24s 2s/step - loss: 0.1891 - acc: 0.9350 - val_loss: 0.4054 - val_acc: 0.8358\n",
            "Epoch 23/35\n",
            "14/14 [==============================] - 24s 2s/step - loss: 0.2243 - acc: 0.9058 - val_loss: 0.5685 - val_acc: 0.8209\n",
            "Epoch 24/35\n",
            "14/14 [==============================] - 26s 2s/step - loss: 0.1782 - acc: 0.9327 - val_loss: 0.5597 - val_acc: 0.7463\n",
            "Epoch 25/35\n",
            "14/14 [==============================] - 24s 2s/step - loss: 0.2717 - acc: 0.9103 - val_loss: 0.4867 - val_acc: 0.8209\n",
            "Epoch 26/35\n",
            "14/14 [==============================] - 24s 2s/step - loss: 0.2463 - acc: 0.9036 - val_loss: 0.3746 - val_acc: 0.8657\n",
            "Epoch 27/35\n",
            "14/14 [==============================] - 24s 2s/step - loss: 0.2472 - acc: 0.9170 - val_loss: 0.5453 - val_acc: 0.7910\n",
            "Epoch 28/35\n",
            "14/14 [==============================] - 25s 2s/step - loss: 0.2183 - acc: 0.9170 - val_loss: 0.5431 - val_acc: 0.7313\n",
            "Epoch 29/35\n",
            "14/14 [==============================] - 24s 2s/step - loss: 0.2218 - acc: 0.9126 - val_loss: 0.5141 - val_acc: 0.8060\n",
            "Epoch 30/35\n",
            "14/14 [==============================] - 24s 2s/step - loss: 0.1923 - acc: 0.9238 - val_loss: 0.4814 - val_acc: 0.7910\n",
            "Epoch 31/35\n",
            "14/14 [==============================] - 26s 2s/step - loss: 0.2050 - acc: 0.9260 - val_loss: 0.6475 - val_acc: 0.7761\n",
            "Epoch 32/35\n",
            "14/14 [==============================] - 27s 2s/step - loss: 0.2199 - acc: 0.9283 - val_loss: 0.3771 - val_acc: 0.8209\n",
            "Epoch 33/35\n",
            "14/14 [==============================] - 26s 2s/step - loss: 0.2021 - acc: 0.9327 - val_loss: 0.5815 - val_acc: 0.7612\n",
            "Epoch 34/35\n",
            "14/14 [==============================] - 26s 2s/step - loss: 0.2354 - acc: 0.9103 - val_loss: 0.6929 - val_acc: 0.7612\n",
            "Epoch 35/35\n",
            "14/14 [==============================] - 24s 2s/step - loss: 0.1759 - acc: 0.9439 - val_loss: 0.4578 - val_acc: 0.8060\n"
          ]
        }
      ]
    },
    {
      "cell_type": "code",
      "source": [
        "final_loss, final_accuracy = model.evaluate(valid_generator, steps = val_steps_per_epoch)\n",
        "print(\"Final loss: {:.2f}\".format(final_loss))\n",
        "print(\"Final accuracy: {:.2f}%\".format(final_accuracy * 100))"
      ],
      "metadata": {
        "colab": {
          "base_uri": "https://localhost:8080/"
        },
        "id": "OeCSQ1IA85Q2",
        "outputId": "6d9a02ab-5c1d-4a45-f1c2-b0df936b583c"
      },
      "execution_count": 11,
      "outputs": [
        {
          "output_type": "stream",
          "name": "stdout",
          "text": [
            "3/3 [==============================] - 3s 532ms/step - loss: 0.4578 - acc: 0.8060\n",
            "Final loss: 0.46\n",
            "Final accuracy: 80.60%\n"
          ]
        }
      ]
    },
    {
      "cell_type": "markdown",
      "source": [
        "**Saving Model**"
      ],
      "metadata": {
        "id": "DTrECGgVrUhX"
      }
    },
    {
      "cell_type": "code",
      "source": [
        "WAY_SAVED_MODEL = \"saved_models/wayang\"\n",
        "tf.keras.models.save_model(model, WAY_SAVED_MODEL)"
      ],
      "metadata": {
        "colab": {
          "base_uri": "https://localhost:8080/"
        },
        "id": "ORJc_VWh9CNU",
        "outputId": "b3fccce9-9dc8-4e9d-b000-dbe00b51f575"
      },
      "execution_count": 12,
      "outputs": [
        {
          "output_type": "stream",
          "name": "stdout",
          "text": [
            "INFO:tensorflow:Assets written to: saved_models/wayang/assets\n"
          ]
        },
        {
          "output_type": "stream",
          "name": "stderr",
          "text": [
            "INFO:tensorflow:Assets written to: saved_models/wayang/assets\n"
          ]
        }
      ]
    },
    {
      "cell_type": "markdown",
      "source": [
        "**Converting Model to TFlite**"
      ],
      "metadata": {
        "id": "9QKNrivarehR"
      }
    },
    {
      "cell_type": "code",
      "source": [
        "way_model = tf.keras.models.load_model(WAY_SAVED_MODEL,custom_objects={'KerasLayer':hub.KerasLayer})"
      ],
      "metadata": {
        "id": "zh1QSc3u9Ewf"
      },
      "execution_count": 13,
      "outputs": []
    },
    {
      "cell_type": "code",
      "source": [
        "converter = tf.lite.TFLiteConverter.from_saved_model(WAY_SAVED_MODEL)\n",
        "tflite_model = converter.convert()\n",
        "\n",
        "open(\"model_wayang.tflite\", \"wb\").write(tflite_model)"
      ],
      "metadata": {
        "colab": {
          "base_uri": "https://localhost:8080/"
        },
        "id": "RyEcbHR9AILF",
        "outputId": "bb1dedab-17fc-46fa-f99d-393a598222a6"
      },
      "execution_count": 15,
      "outputs": [
        {
          "output_type": "stream",
          "name": "stderr",
          "text": [
            "WARNING:absl:Buffer deduplication procedure will be skipped when flatbuffer library is not properly loaded\n"
          ]
        },
        {
          "output_type": "execute_result",
          "data": {
            "text/plain": [
              "14135072"
            ]
          },
          "metadata": {},
          "execution_count": 15
        }
      ]
    },
    {
      "cell_type": "code",
      "source": [
        "from shutil import copyfile"
      ],
      "metadata": {
        "id": "F8gbtpCYtm1x"
      },
      "execution_count": 19,
      "outputs": []
    },
    {
      "cell_type": "code",
      "source": [
        "saved_model_path = \"/content/model_wayang.tflite\"\n",
        "gdrive_saved_model_path = '/content/drive/MyDrive/Wayang Capstone/ModelTFlite'\n",
        "copyfile(saved_model_path, gdrive_saved_model_path)"
      ],
      "metadata": {
        "colab": {
          "base_uri": "https://localhost:8080/",
          "height": 35
        },
        "id": "mvWfxLjI03Hg",
        "outputId": "a1ab0a4a-f34d-41b2-8329-e830a0aa889c"
      },
      "execution_count": 22,
      "outputs": [
        {
          "output_type": "execute_result",
          "data": {
            "text/plain": [
              "'/content/drive/MyDrive/Wayang Capstone/ModelTFlite'"
            ],
            "application/vnd.google.colaboratory.intrinsic+json": {
              "type": "string"
            }
          },
          "metadata": {},
          "execution_count": 22
        }
      ]
    }
  ],
  "metadata": {
    "colab": {
      "name": "SVM",
      "provenance": []
    },
    "kernelspec": {
      "display_name": "Python 3",
      "language": "python",
      "name": "python3"
    },
    "language_info": {
      "codemirror_mode": {
        "name": "ipython",
        "version": 3
      },
      "file_extension": ".py",
      "mimetype": "text/x-python",
      "name": "python",
      "nbconvert_exporter": "python",
      "pygments_lexer": "ipython3",
      "version": "3.7.10"
    }
  },
  "nbformat": 4,
  "nbformat_minor": 0
}
{
  "cells": [
    {
      "cell_type": "code",
      "execution_count": 104,
      "metadata": {
        "id": "9LN8uXAYzKoh",
        "colab": {
          "base_uri": "https://localhost:8080/"
        },
        "outputId": "70b7edec-cf7b-4dda-f14c-529d9eb33a3a"
      },
      "outputs": [
        {
          "output_type": "stream",
          "name": "stdout",
          "text": [
            "Drive already mounted at /content/drive; to attempt to forcibly remount, call drive.mount(\"/content/drive\", force_remount=True).\n"
          ]
        }
      ],
      "source": [
        "from google.colab import drive\n",
        "drive.mount('/content/drive')"
      ]
    },
    {
      "cell_type": "markdown",
      "source": [
        "**Importing Libraries**"
      ],
      "metadata": {
        "id": "2Is0s0K_qRs9"
      }
    },
    {
      "cell_type": "code",
      "execution_count": 105,
      "metadata": {
        "id": "VhRsvSHwZfcV",
        "colab": {
          "base_uri": "https://localhost:8080/"
        },
        "outputId": "60e64ec8-ea79-4eb9-b9f0-92e0bb486df0"
      },
      "outputs": [
        {
          "output_type": "stream",
          "name": "stdout",
          "text": [
            "Looking in indexes: https://pypi.org/simple, https://us-python.pkg.dev/colab-wheels/public/simple/\n",
            "\u001b[31mERROR: Could not find a version that satisfies the requirement tensorflow-gpu==2.0.0-beta0 (from versions: 1.13.1, 1.13.2, 1.14.0, 1.15.0, 1.15.2, 1.15.3, 1.15.4, 1.15.5, 2.0.0, 2.0.1, 2.0.2, 2.0.3, 2.0.4, 2.1.0, 2.1.1, 2.1.2, 2.1.3, 2.1.4, 2.2.0, 2.2.1, 2.2.2, 2.2.3, 2.3.0, 2.3.1, 2.3.2, 2.3.3, 2.3.4, 2.4.0, 2.4.1, 2.4.2, 2.4.3, 2.4.4, 2.5.0, 2.5.1, 2.5.2, 2.5.3, 2.6.0, 2.6.1, 2.6.2, 2.6.3, 2.6.4, 2.6.5, 2.7.0rc0, 2.7.0rc1, 2.7.0, 2.7.1, 2.7.2, 2.7.3, 2.8.0rc0, 2.8.0rc1, 2.8.0, 2.8.1, 2.8.2, 2.9.0rc0, 2.9.0rc1, 2.9.0rc2, 2.9.0, 2.9.1)\u001b[0m\n",
            "\u001b[31mERROR: No matching distribution found for tensorflow-gpu==2.0.0-beta0\u001b[0m\n",
            "Looking in indexes: https://pypi.org/simple, https://us-python.pkg.dev/colab-wheels/public/simple/\n",
            "Requirement already satisfied: tensorflow_hub in /usr/local/lib/python3.7/dist-packages (0.12.0)\n",
            "Requirement already satisfied: protobuf>=3.8.0 in /usr/local/lib/python3.7/dist-packages (from tensorflow_hub) (3.17.3)\n",
            "Requirement already satisfied: numpy>=1.12.0 in /usr/local/lib/python3.7/dist-packages (from tensorflow_hub) (1.21.6)\n",
            "Requirement already satisfied: six>=1.9 in /usr/local/lib/python3.7/dist-packages (from protobuf>=3.8.0->tensorflow_hub) (1.15.0)\n"
          ]
        }
      ],
      "source": [
        "!pip install tensorflow-gpu==2.0.0-beta0\n",
        "!pip install tensorflow_hub"
      ]
    },
    {
      "cell_type": "code",
      "source": [
        "from __future__ import absolute_import, division, print_function, unicode_literals\n",
        "import matplotlib.pylab as plt\n",
        "import tensorflow as tf\n",
        "from tensorflow.keras.optimizers import RMSprop\n",
        "import tensorflow_hub as hub\n",
        "import numpy as np\n"
      ],
      "metadata": {
        "id": "foayFbpn7JOh"
      },
      "execution_count": 106,
      "outputs": []
    },
    {
      "cell_type": "code",
      "source": [
        "import pandas as pd\n",
        "\n",
        "# Increase precision of presented data for better side-by-side comparison\n",
        "pd.set_option(\"display.precision\", 8)"
      ],
      "metadata": {
        "id": "ssai4YhG7Lhr"
      },
      "execution_count": 107,
      "outputs": []
    },
    {
      "cell_type": "code",
      "source": [
        "print(\"Version: \", tf.__version__)\n",
        "print(\"Hub version: \", hub.__version__)\n",
        "print(\"Eager mode: \", tf.executing_eagerly())\n",
        "print(\"GPU is\", \"available\" if tf.test.is_gpu_available() else \"NOT AVAILABLE\")"
      ],
      "metadata": {
        "colab": {
          "base_uri": "https://localhost:8080/"
        },
        "id": "PNHUvUk47N8N",
        "outputId": "045352b0-230e-4b81-9544-36ff0e6c9605"
      },
      "execution_count": 108,
      "outputs": [
        {
          "output_type": "stream",
          "name": "stdout",
          "text": [
            "Version:  2.8.2\n",
            "Hub version:  0.12.0\n",
            "Eager mode:  True\n",
            "GPU is NOT AVAILABLE\n"
          ]
        }
      ]
    },
    {
      "cell_type": "markdown",
      "source": [
        "**Dataset Preparation**"
      ],
      "metadata": {
        "id": "ELwDmmIvqfjk"
      }
    },
    {
      "cell_type": "code",
      "source": [
        "data_root='/content/drive/MyDrive/Wayangs/'"
      ],
      "metadata": {
        "id": "gHi5OHpU7QCl"
      },
      "execution_count": 109,
      "outputs": []
    },
    {
      "cell_type": "code",
      "source": [
        "train_path = '/content/drive/MyDrive/Wayangs/train'\n",
        "val_path = '/content/drive/MyDrive/Wayangs/val'\n",
        "IMAGE_SHAPE = (224, 224)\n",
        "\n",
        "valid_datagen = tf.keras.preprocessing.image.ImageDataGenerator(\n",
        "rescale = 1/255)\n",
        "\n",
        "valid_generator = valid_datagen.flow_from_directory(\n",
        "    directory=val_path,\n",
        "    class_mode = 'categorical',\n",
        "    shuffle=True,\n",
        "    target_size=IMAGE_SHAPE\n",
        ")\n",
        "\n",
        "train_datagen = tf.keras.preprocessing.image.ImageDataGenerator(\n",
        "    rescale = 1/255,\n",
        "    shear_range=0.2,\n",
        "    rotation_range=30,\n",
        "    fill_mode='reflect',\n",
        "    zoom_range=0.2,\n",
        "    brightness_range=[0.8, 1.2],\n",
        "    width_shift_range=0.2,\n",
        "    height_shift_range=0.2,\n",
        "    horizontal_flip=True,\n",
        "    vertical_flip=True\n",
        ")\n",
        "train_generator = train_datagen.flow_from_directory(\n",
        "    directory=train_path,\n",
        "    class_mode = 'categorical',  \n",
        "    shuffle=True,\n",
        "    target_size=IMAGE_SHAPE)"
      ],
      "metadata": {
        "colab": {
          "base_uri": "https://localhost:8080/"
        },
        "id": "d8tKLTIg7Unt",
        "outputId": "00503a24-47a5-4010-daad-4b719439c9bf"
      },
      "execution_count": 110,
      "outputs": [
        {
          "output_type": "stream",
          "name": "stdout",
          "text": [
            "Found 54 images belonging to 6 classes.\n",
            "Found 179 images belonging to 6 classes.\n"
          ]
        }
      ]
    },
    {
      "cell_type": "code",
      "source": [
        "image_batch_train, label_batch_train = next(iter(train_generator))\n",
        "print(\"Image batch shape: \", image_batch_train.shape)\n",
        "print(\"Label batch shape: \", label_batch_train.shape)\n",
        "dataset_labels = sorted(train_generator.class_indices.items(), key=lambda pair:pair[1])\n",
        "dataset_labels = np.array([key.title() for key, value in dataset_labels])\n",
        "print(dataset_labels)"
      ],
      "metadata": {
        "colab": {
          "base_uri": "https://localhost:8080/"
        },
        "id": "Go8o4Op58VYf",
        "outputId": "eb7534bd-fb6d-431e-9ba7-6157aa09e608"
      },
      "execution_count": 111,
      "outputs": [
        {
          "output_type": "stream",
          "name": "stdout",
          "text": [
            "Image batch shape:  (32, 224, 224, 3)\n",
            "Label batch shape:  (32, 6)\n",
            "['Wayang Beber' 'Wayang Gedog' 'Wayang Golek' 'Wayang Krucil'\n",
            " 'Wayang Kulit' 'Wayang Suluh']\n"
          ]
        }
      ]
    },
    {
      "cell_type": "markdown",
      "source": [
        "**Model Training**"
      ],
      "metadata": {
        "id": "sWpY1ygHrL1R"
      }
    },
    {
      "cell_type": "code",
      "source": [
        "model = tf.keras.Sequential([\n",
        "  hub.KerasLayer(\"https://tfhub.dev/google/tf2-preview/mobilenet_v2/feature_vector/4\", \n",
        "                 output_shape=[1280],\n",
        "                 trainable=False),\n",
        "  tf.keras.layers.Flatten(),\n",
        "  tf.keras.layers.Dense(1024, activation='relu'),\n",
        "  tf.keras.layers.Dropout(0.2),\n",
        "  tf.keras.layers.Dense(train_generator.num_classes, activation='softmax')\n",
        "])\n",
        "model.build([None, 224, 224, 3])\n",
        "\n",
        "model.summary()"
      ],
      "metadata": {
        "colab": {
          "base_uri": "https://localhost:8080/"
        },
        "id": "L2EuIrim8rE_",
        "outputId": "cc20b259-29fb-4f9b-e0b4-e32847df1856"
      },
      "execution_count": 112,
      "outputs": [
        {
          "output_type": "stream",
          "name": "stdout",
          "text": [
            "Model: \"sequential_13\"\n",
            "_________________________________________________________________\n",
            " Layer (type)                Output Shape              Param #   \n",
            "=================================================================\n",
            " keras_layer_13 (KerasLayer)  (None, 1280)             2257984   \n",
            "                                                                 \n",
            " flatten_13 (Flatten)        (None, 1280)              0         \n",
            "                                                                 \n",
            " dense_26 (Dense)            (None, 1024)              1311744   \n",
            "                                                                 \n",
            " dropout_13 (Dropout)        (None, 1024)              0         \n",
            "                                                                 \n",
            " dense_27 (Dense)            (None, 6)                 6150      \n",
            "                                                                 \n",
            "=================================================================\n",
            "Total params: 3,575,878\n",
            "Trainable params: 1,317,894\n",
            "Non-trainable params: 2,257,984\n",
            "_________________________________________________________________\n"
          ]
        }
      ]
    },
    {
      "cell_type": "code",
      "source": [
        "model.compile(\n",
        "  optimizer=RMSprop(learning_rate=0.0001),\n",
        "  loss='categorical_crossentropy',\n",
        "  metrics=['acc'])"
      ],
      "metadata": {
        "id": "dVuySzJQ8ztO"
      },
      "execution_count": 113,
      "outputs": []
    },
    {
      "cell_type": "code",
      "source": [
        "steps_per_epoch = np.ceil(train_generator.samples/train_generator.batch_size)\n",
        "val_steps_per_epoch = np.ceil(valid_generator.samples/valid_generator.batch_size)\n",
        "\n",
        "hist = model.fit(\n",
        "    train_generator, \n",
        "    epochs=25,\n",
        "    verbose=1,\n",
        "    steps_per_epoch=steps_per_epoch,\n",
        "    validation_data=valid_generator,\n",
        "    validation_steps=val_steps_per_epoch)"
      ],
      "metadata": {
        "colab": {
          "base_uri": "https://localhost:8080/"
        },
        "id": "WfQkrf1U82fZ",
        "outputId": "d90ad222-3755-4ee5-bee2-342fea371ff1"
      },
      "execution_count": 114,
      "outputs": [
        {
          "output_type": "stream",
          "name": "stdout",
          "text": [
            "Epoch 1/25\n",
            "6/6 [==============================] - 17s 2s/step - loss: 1.6911 - acc: 0.3073 - val_loss: 1.2261 - val_acc: 0.5556\n",
            "Epoch 2/25\n",
            "6/6 [==============================] - 12s 2s/step - loss: 1.1699 - acc: 0.5698 - val_loss: 1.0111 - val_acc: 0.7222\n",
            "Epoch 3/25\n",
            "6/6 [==============================] - 12s 2s/step - loss: 0.8930 - acc: 0.7318 - val_loss: 0.9004 - val_acc: 0.7407\n",
            "Epoch 4/25\n",
            "6/6 [==============================] - 12s 2s/step - loss: 0.7634 - acc: 0.7765 - val_loss: 0.8282 - val_acc: 0.7222\n",
            "Epoch 5/25\n",
            "6/6 [==============================] - 12s 2s/step - loss: 0.6922 - acc: 0.7654 - val_loss: 0.7254 - val_acc: 0.8148\n",
            "Epoch 6/25\n",
            "6/6 [==============================] - 13s 2s/step - loss: 0.5845 - acc: 0.8380 - val_loss: 0.6829 - val_acc: 0.8519\n",
            "Epoch 7/25\n",
            "6/6 [==============================] - 12s 2s/step - loss: 0.5358 - acc: 0.8324 - val_loss: 0.6706 - val_acc: 0.8333\n",
            "Epoch 8/25\n",
            "6/6 [==============================] - 12s 2s/step - loss: 0.4945 - acc: 0.8436 - val_loss: 0.6370 - val_acc: 0.7963\n",
            "Epoch 9/25\n",
            "6/6 [==============================] - 12s 2s/step - loss: 0.4286 - acc: 0.9050 - val_loss: 0.5892 - val_acc: 0.8333\n",
            "Epoch 10/25\n",
            "6/6 [==============================] - 12s 2s/step - loss: 0.4247 - acc: 0.8715 - val_loss: 0.6349 - val_acc: 0.7963\n",
            "Epoch 11/25\n",
            "6/6 [==============================] - 12s 2s/step - loss: 0.3564 - acc: 0.9050 - val_loss: 0.5706 - val_acc: 0.8333\n",
            "Epoch 12/25\n",
            "6/6 [==============================] - 12s 2s/step - loss: 0.3386 - acc: 0.9162 - val_loss: 0.5688 - val_acc: 0.8333\n",
            "Epoch 13/25\n",
            "6/6 [==============================] - 12s 2s/step - loss: 0.3024 - acc: 0.9274 - val_loss: 0.5184 - val_acc: 0.8519\n",
            "Epoch 14/25\n",
            "6/6 [==============================] - 12s 2s/step - loss: 0.2603 - acc: 0.9385 - val_loss: 0.5287 - val_acc: 0.8519\n",
            "Epoch 15/25\n",
            "6/6 [==============================] - 12s 2s/step - loss: 0.2775 - acc: 0.9218 - val_loss: 0.5162 - val_acc: 0.8519\n",
            "Epoch 16/25\n",
            "6/6 [==============================] - 12s 2s/step - loss: 0.2282 - acc: 0.9441 - val_loss: 0.4885 - val_acc: 0.8148\n",
            "Epoch 17/25\n",
            "6/6 [==============================] - 12s 2s/step - loss: 0.2656 - acc: 0.9050 - val_loss: 0.5156 - val_acc: 0.8519\n",
            "Epoch 18/25\n",
            "6/6 [==============================] - 12s 2s/step - loss: 0.2250 - acc: 0.9665 - val_loss: 0.4734 - val_acc: 0.8889\n",
            "Epoch 19/25\n",
            "6/6 [==============================] - 12s 2s/step - loss: 0.2306 - acc: 0.9330 - val_loss: 0.4467 - val_acc: 0.8519\n",
            "Epoch 20/25\n",
            "6/6 [==============================] - 12s 2s/step - loss: 0.2187 - acc: 0.9441 - val_loss: 0.4654 - val_acc: 0.8333\n",
            "Epoch 21/25\n",
            "6/6 [==============================] - 12s 2s/step - loss: 0.2583 - acc: 0.9274 - val_loss: 0.4561 - val_acc: 0.8333\n",
            "Epoch 22/25\n",
            "6/6 [==============================] - 13s 2s/step - loss: 0.2241 - acc: 0.9106 - val_loss: 0.4343 - val_acc: 0.8519\n",
            "Epoch 23/25\n",
            "6/6 [==============================] - 12s 2s/step - loss: 0.1937 - acc: 0.9441 - val_loss: 0.4388 - val_acc: 0.8333\n",
            "Epoch 24/25\n",
            "6/6 [==============================] - 12s 2s/step - loss: 0.1605 - acc: 0.9609 - val_loss: 0.4682 - val_acc: 0.8704\n",
            "Epoch 25/25\n",
            "6/6 [==============================] - 12s 2s/step - loss: 0.1696 - acc: 0.9553 - val_loss: 0.4212 - val_acc: 0.8889\n"
          ]
        }
      ]
    },
    {
      "cell_type": "code",
      "source": [
        "final_loss, final_accuracy = model.evaluate(valid_generator, steps = val_steps_per_epoch)\n",
        "print(\"Final loss: {:.2f}\".format(final_loss))\n",
        "print(\"Final accuracy: {:.2f}%\".format(final_accuracy * 100))"
      ],
      "metadata": {
        "colab": {
          "base_uri": "https://localhost:8080/"
        },
        "id": "OeCSQ1IA85Q2",
        "outputId": "93c81b8a-d792-48de-a9f6-1bcb562c553b"
      },
      "execution_count": 115,
      "outputs": [
        {
          "output_type": "stream",
          "name": "stdout",
          "text": [
            "2/2 [==============================] - 2s 642ms/step - loss: 0.4212 - acc: 0.8889\n",
            "Final loss: 0.42\n",
            "Final accuracy: 88.89%\n"
          ]
        }
      ]
    },
    {
      "cell_type": "code",
      "source": [
        "#----------------------------------------------------------\n",
        "# Retrieve a list of list results on training and test data\n",
        "# sets for each training epoch\n",
        "#-----------------------------------------------------------\n",
        "acc      = hist.history['acc']\n",
        "val_acc  = hist.history['val_acc']\n",
        "loss     = hist.history['loss']\n",
        "val_loss = hist.history['val_loss']\n",
        "\n",
        "epochs   = range(len(acc)) # Get number of epochs\n",
        "\n",
        "#------------------------------------------------\n",
        "# Plot training and validation accuracy per epoch\n",
        "#------------------------------------------------\n",
        "plt.plot(epochs, acc, 'r', label='Training accuracy')\n",
        "plt.plot  ( epochs, val_acc, 'b', label='Validation accuracy')\n",
        "plt.title ('Training and validation accuracy')\n",
        "# plt.title('Training accuracy')\n",
        "plt.legend()\n",
        "plt.figure()\n",
        "\n",
        "#------------------------------------------------\n",
        "# Plot training and validation loss per epoch\n",
        "#------------------------------------------------\n",
        "plt.plot(epochs, loss, 'r', label='Training loss')\n",
        "plt.plot  ( epochs, val_loss, 'b', label='Validation loss')\n",
        "plt.title ('Training and validation loss')\n",
        "# plt.title('Training loss')\n",
        "plt.legend()\n",
        "\n",
        "plt.show()"
      ],
      "metadata": {
        "colab": {
          "base_uri": "https://localhost:8080/",
          "height": 545
        },
        "id": "0eaokF9r8SNz",
        "outputId": "d6432c80-147b-49cc-a1a5-9328684fa848"
      },
      "execution_count": 116,
      "outputs": [
        {
          "output_type": "display_data",
          "data": {
            "text/plain": [
              "<Figure size 432x288 with 1 Axes>"
            ],
            "image/png": "[encoded data removed]"
          },
          "metadata": {
            "needs_background": "light"
          }
        },
        {
          "output_type": "display_data",
          "data": {
            "text/plain": [
              "<Figure size 432x288 with 1 Axes>"
            ],
            "image/png": "[encoded data removed]"
          },
          "metadata": {
            "needs_background": "light"
          }
        }
      ]
    },
    {
      "cell_type": "markdown",
      "source": [
        "**Saving Model**"
      ],
      "metadata": {
        "id": "DTrECGgVrUhX"
      }
    },
    {
      "cell_type": "code",
      "source": [
        "WAY_SAVED_MODEL = \"saved_models/wayang\"\n",
        "tf.keras.models.save_model(model, WAY_SAVED_MODEL)"
      ],
      "metadata": {
        "colab": {
          "base_uri": "https://localhost:8080/"
        },
        "id": "ORJc_VWh9CNU",
        "outputId": "b3fccce9-9dc8-4e9d-b000-dbe00b51f575"
      },
      "execution_count": null,
      "outputs": [
        {
          "output_type": "stream",
          "name": "stdout",
          "text": [
            "INFO:tensorflow:Assets written to: saved_models/wayang/assets\n"
          ]
        },
        {
          "output_type": "stream",
          "name": "stderr",
          "text": [
            "INFO:tensorflow:Assets written to: saved_models/wayang/assets\n"
          ]
        }
      ]
    },
    {
      "cell_type": "markdown",
      "source": [
        "**Converting Model to TFlite**"
      ],
      "metadata": {
        "id": "9QKNrivarehR"
      }
    },
    {
      "cell_type": "code",
      "source": [
        "way_model = tf.keras.models.load_model(WAY_SAVED_MODEL,custom_objects={'KerasLayer':hub.KerasLayer})"
      ],
      "metadata": {
        "id": "zh1QSc3u9Ewf"
      },
      "execution_count": null,
      "outputs": []
    },
    {
      "cell_type": "code",
      "source": [
        "converter = tf.lite.TFLiteConverter.from_saved_model(WAY_SAVED_MODEL)\n",
        "tflite_model = converter.convert()\n",
        "\n",
        "open(\"model_wayang.tflite\", \"wb\").write(tflite_model)"
      ],
      "metadata": {
        "colab": {
          "base_uri": "https://localhost:8080/"
        },
        "id": "RyEcbHR9AILF",
        "outputId": "bb1dedab-17fc-46fa-f99d-393a598222a6"
      },
      "execution_count": null,
      "outputs": [
        {
          "output_type": "stream",
          "name": "stderr",
          "text": [
            "WARNING:absl:Buffer deduplication procedure will be skipped when flatbuffer library is not properly loaded\n"
          ]
        },
        {
          "output_type": "execute_result",
          "data": {
            "text/plain": [
              "14135072"
            ]
          },
          "metadata": {},
          "execution_count": 15
        }
      ]
    },
    {
      "cell_type": "code",
      "source": [
        "from shutil import copyfile"
      ],
      "metadata": {
        "id": "F8gbtpCYtm1x"
      },
      "execution_count": null,
      "outputs": []
    },
    {
      "cell_type": "code",
      "source": [
        "saved_model_path = \"/content/model_wayang.tflite\"\n",
        "gdrive_saved_model_path = '/content/drive/MyDrive/Wayang Capstone/ModelTFlite'\n",
        "copyfile(saved_model_path, gdrive_saved_model_path)"
      ],
      "metadata": {
        "colab": {
          "base_uri": "https://localhost:8080/",
          "height": 35
        },
        "id": "mvWfxLjI03Hg",
        "outputId": "a1ab0a4a-f34d-41b2-8329-e830a0aa889c"
      },
      "execution_count": null,
      "outputs": [
        {
          "output_type": "execute_result",
          "data": {
            "text/plain": [
              "'/content/drive/MyDrive/Wayang Capstone/ModelTFlite'"
            ],
            "application/vnd.google.colaboratory.intrinsic+json": {
              "type": "string"
            }
          },
          "metadata": {},
          "execution_count": 22
        }
      ]
    }
  ],
  "metadata": {
    "colab": {
      "name": "Wayang MobileNet V2",
      "provenance": []
    },
    "kernelspec": {
      "display_name": "Python 3",
      "language": "python",
      "name": "python3"
    },
    "language_info": {
      "codemirror_mode": {
        "name": "ipython",
        "version": 3
      },
      "file_extension": ".py",
      "mimetype": "text/x-python",
      "name": "python",
      "nbconvert_exporter": "python",
      "pygments_lexer": "ipython3",
      "version": "3.7.10"
    }
  },
  "nbformat": 4,
  "nbformat_minor": 0
}